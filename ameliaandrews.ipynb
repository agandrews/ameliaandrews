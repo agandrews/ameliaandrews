{
 "cells": [
  {
   "cell_type": "markdown",
   "metadata": {},
   "source": [
    "# MC316 Final Exam – Part B: PYTHON"
   ]
  },
  {
   "cell_type": "markdown",
   "metadata": {},
   "source": [
    "* You will have 1 hour and 40 minutes to finish the test.\n",
    "* This part includes 10 questions. Each question is worth 15 points.\n",
    "* You get extra 30 points for full answers.\n",
    "* Please read the instructions carefully. "
   ]
  },
  {
   "cell_type": "markdown",
   "metadata": {},
   "source": [
    "## I. SET UP\n"
   ]
  },
  {
   "cell_type": "markdown",
   "metadata": {},
   "source": [
    "### Import pandas library for use in scripting. "
   ]
  },
  {
   "cell_type": "code",
   "execution_count": 2,
   "metadata": {},
   "outputs": [],
   "source": [
    "import pandas as pd"
   ]
  },
  {
   "cell_type": "markdown",
   "metadata": {},
   "source": [
    "### Import the datasets and name them.\n",
    "For this test, you will analyze revenue and expenditure data released by Kansas Department of Administration for the fiscal year 2018. While the original data can be directly downloaded [here](http://kanview.ks.gov/DataDownload.aspx), for your convenience, the instructor had them uploaded to a server at the following urls. \n",
    "\n",
    "#### For Kansas State University:\n",
    "1. Expenditure data: https://datajournalism.tech/wp-content/uploads/2019/05/ExpData_367_2018.csv\n",
    "2. Revenue data: https://datajournalism.tech/wp-content/uploads/2019/05/RevData_367_2018.csv\n",
    "\n",
    "#### For University of Kansas:\n",
    "3. Expenditure data: https://datajournalism.tech/wp-content/uploads/2019/05/ExpData_682_2018.csv\n",
    "4. Revenue data: https://datajournalism.tech/wp-content/uploads/2019/05/RevData_682_2018.csv\n",
    "\n",
    "You will need to import all 4 datasets and name them in an easy way to call out later.\n",
    "\n",
    "*Please refer to the [Glossary](http://kanview.ks.gov/Glossary.aspx#f) for data description."
   ]
  },
  {
   "cell_type": "code",
   "execution_count": 20,
   "metadata": {},
   "outputs": [],
   "source": [
    "KSU = pd.read_csv(\"https://datajournalism.tech/wp-content/uploads/2019/05/ExpData_367_2018.csv\") "
   ]
  },
  {
   "cell_type": "code",
   "execution_count": 21,
   "metadata": {},
   "outputs": [],
   "source": [
    "Rev = pd.read_csv(\"https://datajournalism.tech/wp-content/uploads/2019/05/RevData_367_2018.csv\")"
   ]
  },
  {
   "cell_type": "code",
   "execution_count": 23,
   "metadata": {},
   "outputs": [],
   "source": [
    "KU = pd.read_csv(\"https://datajournalism.tech/wp-content/uploads/2019/05/ExpData_682_2018.csv\")\n"
   ]
  },
  {
   "cell_type": "code",
   "execution_count": 30,
   "metadata": {},
   "outputs": [],
   "source": [
    "data = pd.read_csv(\"https://datajournalism.tech/wp-content/uploads/2019/05/RevData_682_2018.csv\")\n",
    "            "
   ]
  },
  {
   "cell_type": "markdown",
   "metadata": {},
   "source": [
    "## II. REQUIRED QUESTIONS\n",
    "* Make sure you type the answers in the cells right below the codes.\n",
    "* If you need to add extra cells, click the + button in the toolbar up the top. "
   ]
  },
  {
   "cell_type": "markdown",
   "metadata": {},
   "source": [
    "### Q1: What is the total revenue recorded for Kansas State University in the fiscal year of 2018? How does it compare to the total revenue recorded for University of Kansas in the same year?"
   ]
  },
  {
   "cell_type": "code",
   "execution_count": 71,
   "metadata": {},
   "outputs": [
    {
     "name": "stdout",
     "output_type": "stream",
     "text": [
      "<class 'pandas.core.frame.DataFrame'>\n",
      "RangeIndex: 1910 entries, 0 to 1909\n",
      "Data columns (total 22 columns):\n",
      "Fiscal_Year                        1910 non-null int64\n",
      "Fiscal_Quarter                     1910 non-null int64\n",
      "Business_Unit                      1910 non-null int64\n",
      "Business_Unit_Descr                1910 non-null object\n",
      "GAAP_Fund_Type                     1910 non-null int64\n",
      "GAAP_Fund_Type_Descr               1910 non-null object\n",
      "Fund_Code                          1910 non-null int64\n",
      "Fund_Code_Descr                    1910 non-null object\n",
      "Budget_Ref                         1910 non-null int64\n",
      "Budget_Ref_Descr                   1910 non-null object\n",
      "Program_Code                       1910 non-null int64\n",
      "Program_Code_Descr                 1910 non-null object\n",
      "State_Function                     1910 non-null int64\n",
      "State_Function_Descr               1910 non-null object\n",
      "Primary_Account_Code               1910 non-null int64\n",
      "Primary_Account_Code_Descr         1910 non-null object\n",
      "Intermediate_Account_Code          1910 non-null int64\n",
      "Intermediate_Account_Code_Descr    1910 non-null object\n",
      "Detail_Account_Code                1910 non-null int64\n",
      "Detail_Account_Code_Descr          1910 non-null object\n",
      "Total                              1910 non-null float64\n",
      "Unnamed: 21                        0 non-null float64\n",
      "dtypes: float64(2), int64(11), object(9)\n",
      "memory usage: 328.4+ KB\n"
     ]
    }
   ],
   "source": [
    "Rev.info()\n"
   ]
  },
  {
   "cell_type": "code",
   "execution_count": 70,
   "metadata": {},
   "outputs": [
    {
     "name": "stdout",
     "output_type": "stream",
     "text": [
      "<class 'pandas.core.frame.DataFrame'>\n",
      "RangeIndex: 1077 entries, 0 to 1076\n",
      "Data columns (total 22 columns):\n",
      "Fiscal_Year                        1077 non-null int64\n",
      "Fiscal_Quarter                     1077 non-null int64\n",
      "Business_Unit                      1077 non-null int64\n",
      "Business_Unit_Descr                1077 non-null object\n",
      "GAAP_Fund_Type                     1077 non-null int64\n",
      "GAAP_Fund_Type_Descr               1077 non-null object\n",
      "Fund_Code                          1077 non-null int64\n",
      "Fund_Code_Descr                    1077 non-null object\n",
      "Budget_Ref                         1077 non-null int64\n",
      "Budget_Ref_Descr                   1077 non-null object\n",
      "Program_Code                       1077 non-null int64\n",
      "Program_Code_Descr                 1077 non-null object\n",
      "State_Function                     1077 non-null int64\n",
      "State_Function_Descr               1077 non-null object\n",
      "Primary_Account_Code               1077 non-null int64\n",
      "Primary_Account_Code_Descr         1077 non-null object\n",
      "Intermediate_Account_Code          1077 non-null int64\n",
      "Intermediate_Account_Code_Descr    1077 non-null object\n",
      "Detail_Account_Code                1077 non-null int64\n",
      "Detail_Account_Code_Descr          1077 non-null object\n",
      "Total                              1077 non-null float64\n",
      "Unnamed: 21                        0 non-null float64\n",
      "dtypes: float64(2), int64(11), object(9)\n",
      "memory usage: 185.2+ KB\n"
     ]
    }
   ],
   "source": [
    "data.info()"
   ]
  },
  {
   "cell_type": "code",
   "execution_count": 108,
   "metadata": {},
   "outputs": [
    {
     "data": {
      "text/plain": [
       "854324643.84"
      ]
     },
     "execution_count": 108,
     "metadata": {},
     "output_type": "execute_result"
    }
   ],
   "source": [
    "Rev.Total.sum()"
   ]
  },
  {
   "cell_type": "code",
   "execution_count": 109,
   "metadata": {},
   "outputs": [
    {
     "data": {
      "text/plain": [
       "808767902.55"
      ]
     },
     "execution_count": 109,
     "metadata": {},
     "output_type": "execute_result"
    }
   ],
   "source": [
    "data.Total.sum()"
   ]
  },
  {
   "cell_type": "code",
   "execution_count": 110,
   "metadata": {},
   "outputs": [
    {
     "data": {
      "text/plain": [
       "45556741.29000008"
      ]
     },
     "execution_count": 110,
     "metadata": {},
     "output_type": "execute_result"
    }
   ],
   "source": [
    "854324643.84-808767902.55"
   ]
  },
  {
   "cell_type": "markdown",
   "metadata": {},
   "source": [
    "<b>Answer:</b> K-State made this much more in revenue than KU 45556741.29000008"
   ]
  },
  {
   "cell_type": "markdown",
   "metadata": {},
   "source": [
    "### Q2: What is the total expense recorded for Kansas State University in the fiscal year of 2018? How does it compare to the total expense recorded for University of Kansas in the same year?"
   ]
  },
  {
   "cell_type": "code",
   "execution_count": 106,
   "metadata": {},
   "outputs": [
    {
     "data": {
      "text/plain": [
       "1018584373.02"
      ]
     },
     "execution_count": 106,
     "metadata": {},
     "output_type": "execute_result"
    }
   ],
   "source": [
    "KSU.Total.sum()"
   ]
  },
  {
   "cell_type": "code",
   "execution_count": 111,
   "metadata": {},
   "outputs": [
    {
     "data": {
      "text/plain": [
       "990238875.6099999"
      ]
     },
     "execution_count": 111,
     "metadata": {},
     "output_type": "execute_result"
    }
   ],
   "source": [
    "KU.Total.sum()"
   ]
  },
  {
   "cell_type": "code",
   "execution_count": 112,
   "metadata": {},
   "outputs": [
    {
     "data": {
      "text/plain": [
       "28345497.410000086"
      ]
     },
     "execution_count": 112,
     "metadata": {},
     "output_type": "execute_result"
    }
   ],
   "source": [
    "1018584373.02-990238875.6099999"
   ]
  },
  {
   "cell_type": "markdown",
   "metadata": {},
   "source": [
    "<b>Answer:</b> K-State had 28345497.410000086 in expenses compared to KU\n"
   ]
  },
  {
   "cell_type": "markdown",
   "metadata": {},
   "source": [
    "### Q3: Where did the two universities' primary revenues come from? \n",
    "*Refer to the description [here](http://kanview.ks.gov/Revenues/AcctCodeRevenues.aspx) to write your answer."
   ]
  },
  {
   "cell_type": "code",
   "execution_count": 200,
   "metadata": {},
   "outputs": [
    {
     "data": {
      "text/plain": [
       "AGENCY EARNINGS                   637\n",
       "REV FROM USE OF MONEY & PROP      354\n",
       "REVENUE TRANSFERS                 341\n",
       "NON REVENUE RECEIPTS              259\n",
       "OTHER REVENUE                     160\n",
       "GIFT DONATION FEDERAL GRANTS      152\n",
       "TAXES                               7\n",
       "Name: Primary_Account_Code_Descr, dtype: int64"
      ]
     },
     "execution_count": 200,
     "metadata": {},
     "output_type": "execute_result"
    }
   ],
   "source": [
    "Rev.Primary_Account_Code_Descr.value_counts()"
   ]
  },
  {
   "cell_type": "code",
   "execution_count": 201,
   "metadata": {},
   "outputs": [
    {
     "data": {
      "text/plain": [
       "AGENCY EARNINGS                   376\n",
       "REV FROM USE OF MONEY & PROP      251\n",
       "NON REVENUE RECEIPTS              157\n",
       "REVENUE TRANSFERS                 153\n",
       "OTHER REVENUE                      57\n",
       "TAXES                              45\n",
       "GIFT DONATION FEDERAL GRANTS       38\n",
       "Name: Primary_Account_Code_Descr, dtype: int64"
      ]
     },
     "execution_count": 201,
     "metadata": {},
     "output_type": "execute_result"
    }
   ],
   "source": [
    "data.Primary_Account_Code_Descr.value_counts()"
   ]
  },
  {
   "cell_type": "markdown",
   "metadata": {},
   "source": [
    "<b>Answer:</b> Agency earnings"
   ]
  },
  {
   "cell_type": "markdown",
   "metadata": {},
   "source": [
    "### Q4: What was the biggest source of revenues for Kansas State University? Compare to the one of University of Kansas."
   ]
  },
  {
   "cell_type": "markdown",
   "metadata": {},
   "source": [
    "Remove hashtag and run the following code to suppress scientific notation:"
   ]
  },
  {
   "cell_type": "code",
   "execution_count": 204,
   "metadata": {},
   "outputs": [
    {
     "ename": "NameError",
     "evalue": "name 'Primary_Account_Code_Descr' is not defined",
     "output_type": "error",
     "traceback": [
      "\u001b[0;31m---------------------------------------------------------------------------\u001b[0m",
      "\u001b[0;31mNameError\u001b[0m                                 Traceback (most recent call last)",
      "\u001b[0;32m<ipython-input-204-0c5860142a22>\u001b[0m in \u001b[0;36m<module>\u001b[0;34m()\u001b[0m\n\u001b[0;32m----> 1\u001b[0;31m \u001b[0mRev\u001b[0m\u001b[0;34m.\u001b[0m\u001b[0mgroupby\u001b[0m\u001b[0;34m(\u001b[0m\u001b[0mPrimary_Account_Code_Descr\u001b[0m\u001b[0;34m)\u001b[0m\u001b[0;34m.\u001b[0m\u001b[0mvalues_counts\u001b[0m\u001b[0;34m(\u001b[0m\u001b[0;34m)\u001b[0m\u001b[0;34m\u001b[0m\u001b[0m\n\u001b[0m",
      "\u001b[0;31mNameError\u001b[0m: name 'Primary_Account_Code_Descr' is not defined"
     ]
    }
   ],
   "source": [
    "Rev.groupby(Primary_Account_Code_Descr).values_counts()"
   ]
  },
  {
   "cell_type": "code",
   "execution_count": null,
   "metadata": {},
   "outputs": [],
   "source": []
  },
  {
   "cell_type": "markdown",
   "metadata": {},
   "source": [
    "<b>Answer:</b> "
   ]
  },
  {
   "cell_type": "markdown",
   "metadata": {},
   "source": [
    "### Q5: What accounts contributed to Kansas State University's biggest source of revenues?\n",
    "If you run into a situation where a filter function returns 0 results, you may want to check if there are leading and trailing spaces in the column. To clean the leading and trailing spaces, you will need to remove the hashtag, revise the names, and run the following code:"
   ]
  },
  {
   "cell_type": "code",
   "execution_count": 2,
   "metadata": {},
   "outputs": [],
   "source": [
    "#yourdataframe[\"yourcolumnname\"] = yourdataframe[\"yourcolumnname\"].str.strip()"
   ]
  },
  {
   "cell_type": "markdown",
   "metadata": {},
   "source": [
    "After cleaning the spaces, you can start filtering your datasets to find the answer for Q5."
   ]
  },
  {
   "cell_type": "code",
   "execution_count": null,
   "metadata": {},
   "outputs": [],
   "source": []
  },
  {
   "cell_type": "markdown",
   "metadata": {},
   "source": [
    "<b>Answer:</b>"
   ]
  },
  {
   "cell_type": "markdown",
   "metadata": {},
   "source": [
    "### Q6: Where did the money go? (Answer for both universities)\n",
    "*Refer to the description [here] (http://kanview.ks.gov/Expenditures/AcctCodeExpenditures.aspx) to write your answer."
   ]
  },
  {
   "cell_type": "code",
   "execution_count": null,
   "metadata": {},
   "outputs": [],
   "source": []
  },
  {
   "cell_type": "markdown",
   "metadata": {},
   "source": [
    "<b>Answer:</b> "
   ]
  },
  {
   "cell_type": "markdown",
   "metadata": {},
   "source": [
    "### Q7: What costs two universities the most? "
   ]
  },
  {
   "cell_type": "code",
   "execution_count": null,
   "metadata": {},
   "outputs": [],
   "source": []
  },
  {
   "cell_type": "markdown",
   "metadata": {},
   "source": [
    "<b>Answer:</b> "
   ]
  },
  {
   "cell_type": "markdown",
   "metadata": {},
   "source": [
    "### Q8: Calculate the percentage of this cost over each university's total expense."
   ]
  },
  {
   "cell_type": "code",
   "execution_count": null,
   "metadata": {},
   "outputs": [],
   "source": []
  },
  {
   "cell_type": "markdown",
   "metadata": {},
   "source": [
    "<b>Answer:</b> "
   ]
  },
  {
   "cell_type": "markdown",
   "metadata": {},
   "source": [
    "### Q9: Breakdown the cost you found in Q7 for both universities.\n",
    "Again, if you run into a situation where a filter function returns 0 results, you may want to check if there are leading and trailing spaces in the column. To clean the leading and trailing spaces, you will need to remove the hashtag, revise the names, and run the following code:"
   ]
  },
  {
   "cell_type": "code",
   "execution_count": 3,
   "metadata": {},
   "outputs": [],
   "source": [
    "#yourdataframe[\"yourcolumnname\"] = yourdataframe[\"yourcolumnname\"].str.strip()"
   ]
  },
  {
   "cell_type": "code",
   "execution_count": null,
   "metadata": {},
   "outputs": [],
   "source": []
  },
  {
   "cell_type": "markdown",
   "metadata": {},
   "source": [
    "<b>Answer:</b>"
   ]
  },
  {
   "cell_type": "markdown",
   "metadata": {},
   "source": [
    "### Q10: Compare the breakdown costs from Q9 side by side.\n",
    "When you merge the two subsets, make sure to add the attribute <b>how =\"outer\"</b> so that you can keep every item from both sets.\n",
    "*For example: merge = pd.merge(df1, df2, how=\"outer\", on=\"columnname\")"
   ]
  },
  {
   "cell_type": "code",
   "execution_count": null,
   "metadata": {},
   "outputs": [],
   "source": []
  },
  {
   "cell_type": "markdown",
   "metadata": {},
   "source": [
    "<b>Answer:</b>"
   ]
  },
  {
   "cell_type": "markdown",
   "metadata": {},
   "source": [
    "## III. BONUS QUESTIONS\n",
    "* Each question's worth 15 points.\n"
   ]
  },
  {
   "cell_type": "markdown",
   "metadata": {},
   "source": [
    "### B1: Which university made a profit in the fiscal year of 2018?"
   ]
  },
  {
   "cell_type": "code",
   "execution_count": 99,
   "metadata": {},
   "outputs": [
    {
     "name": "stdout",
     "output_type": "stream",
     "text": [
      "<class 'pandas.core.frame.DataFrame'>\n",
      "RangeIndex: 1910 entries, 0 to 1909\n",
      "Data columns (total 22 columns):\n",
      "Fiscal_Year                        1910 non-null int64\n",
      "Fiscal_Quarter                     1910 non-null int64\n",
      "Business_Unit                      1910 non-null int64\n",
      "Business_Unit_Descr                1910 non-null object\n",
      "GAAP_Fund_Type                     1910 non-null int64\n",
      "GAAP_Fund_Type_Descr               1910 non-null object\n",
      "Fund_Code                          1910 non-null int64\n",
      "Fund_Code_Descr                    1910 non-null object\n",
      "Budget_Ref                         1910 non-null int64\n",
      "Budget_Ref_Descr                   1910 non-null object\n",
      "Program_Code                       1910 non-null int64\n",
      "Program_Code_Descr                 1910 non-null object\n",
      "State_Function                     1910 non-null int64\n",
      "State_Function_Descr               1910 non-null object\n",
      "Primary_Account_Code               1910 non-null int64\n",
      "Primary_Account_Code_Descr         1910 non-null object\n",
      "Intermediate_Account_Code          1910 non-null int64\n",
      "Intermediate_Account_Code_Descr    1910 non-null object\n",
      "Detail_Account_Code                1910 non-null int64\n",
      "Detail_Account_Code_Descr          1910 non-null object\n",
      "Total                              1910 non-null float64\n",
      "Unnamed: 21                        0 non-null float64\n",
      "dtypes: float64(2), int64(11), object(9)\n",
      "memory usage: 328.4+ KB\n"
     ]
    }
   ],
   "source": []
  },
  {
   "cell_type": "code",
   "execution_count": 100,
   "metadata": {},
   "outputs": [
    {
     "name": "stdout",
     "output_type": "stream",
     "text": [
      "<class 'pandas.core.frame.DataFrame'>\n",
      "RangeIndex: 1077 entries, 0 to 1076\n",
      "Data columns (total 22 columns):\n",
      "Fiscal_Year                        1077 non-null int64\n",
      "Fiscal_Quarter                     1077 non-null int64\n",
      "Business_Unit                      1077 non-null int64\n",
      "Business_Unit_Descr                1077 non-null object\n",
      "GAAP_Fund_Type                     1077 non-null int64\n",
      "GAAP_Fund_Type_Descr               1077 non-null object\n",
      "Fund_Code                          1077 non-null int64\n",
      "Fund_Code_Descr                    1077 non-null object\n",
      "Budget_Ref                         1077 non-null int64\n",
      "Budget_Ref_Descr                   1077 non-null object\n",
      "Program_Code                       1077 non-null int64\n",
      "Program_Code_Descr                 1077 non-null object\n",
      "State_Function                     1077 non-null int64\n",
      "State_Function_Descr               1077 non-null object\n",
      "Primary_Account_Code               1077 non-null int64\n",
      "Primary_Account_Code_Descr         1077 non-null object\n",
      "Intermediate_Account_Code          1077 non-null int64\n",
      "Intermediate_Account_Code_Descr    1077 non-null object\n",
      "Detail_Account_Code                1077 non-null int64\n",
      "Detail_Account_Code_Descr          1077 non-null object\n",
      "Total                              1077 non-null float64\n",
      "Unnamed: 21                        0 non-null float64\n",
      "dtypes: float64(2), int64(11), object(9)\n",
      "memory usage: 185.2+ KB\n"
     ]
    }
   ],
   "source": []
  },
  {
   "cell_type": "markdown",
   "metadata": {},
   "source": [
    "<b>Answer:</b> Both universities made a profit in the fiscal year of 2018"
   ]
  },
  {
   "cell_type": "markdown",
   "metadata": {},
   "source": [
    "### B2: Which software program do you like the most in this course? Why?"
   ]
  },
  {
   "cell_type": "markdown",
   "metadata": {},
   "source": [
    "<b>Answer:</b> I like python because the tutorial is easier to understand than R Studio"
   ]
  },
  {
   "cell_type": "markdown",
   "metadata": {},
   "source": [
    "### END OF THE TEST"
   ]
  }
 ],
 "metadata": {
  "kernelspec": {
   "display_name": "Python 2",
   "language": "python",
   "name": "python2"
  },
  "language_info": {
   "codemirror_mode": {
    "name": "ipython",
    "version": 2
   },
   "file_extension": ".py",
   "mimetype": "text/x-python",
   "name": "python",
   "nbconvert_exporter": "python",
   "pygments_lexer": "ipython2",
   "version": "2.7.10"
  }
 },
 "nbformat": 4,
 "nbformat_minor": 2
}
